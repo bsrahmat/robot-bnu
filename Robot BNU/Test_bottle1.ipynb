{
 "cells": [
  {
   "cell_type": "code",
   "execution_count": 1,
   "metadata": {},
   "outputs": [
    {
     "name": "stderr",
     "output_type": "stream",
     "text": [
      "Bottle v0.12.17 server starting up (using WSGIRefServer())...\n",
      "Listening on http://localhost:8080/\n",
      "Hit Ctrl-C to quit.\n",
      "\n",
      "127.0.0.1 - - [04/Nov/2019 13:56:54] \"GET / HTTP/1.1\" 404 720\n",
      "127.0.0.1 - - [04/Nov/2019 13:56:54] \"GET /favicon.ico HTTP/1.1\" 404 742\n",
      "127.0.0.1 - - [04/Nov/2019 13:57:04] \"GET / HTTP/1.1\" 404 720\n",
      "127.0.0.1 - - [04/Nov/2019 13:57:34] \"GET /hello/world HTTP/1.1\" 200 19\n",
      "127.0.0.1 - - [04/Nov/2019 13:59:23] \"GET /hello/world HTTP/1.1\" 200 19\n"
     ]
    }
   ],
   "source": [
    "from bottle import route, run, template\n",
    "\n",
    "@route('/hello/<name>')\n",
    "def index(name):\n",
    "    return template('<b>Hello {{name}}</b>!', name=name)\n",
    "\n",
    "run(host='localhost', port=8080)"
   ]
  },
  {
   "cell_type": "code",
   "execution_count": null,
   "metadata": {},
   "outputs": [],
   "source": []
  }
 ],
 "metadata": {
  "kernelspec": {
   "display_name": "Python 3",
   "language": "python",
   "name": "python3"
  },
  "language_info": {
   "codemirror_mode": {
    "name": "ipython",
    "version": 3
   },
   "file_extension": ".py",
   "mimetype": "text/x-python",
   "name": "python",
   "nbconvert_exporter": "python",
   "pygments_lexer": "ipython3",
   "version": "3.7.3"
  }
 },
 "nbformat": 4,
 "nbformat_minor": 2
}
