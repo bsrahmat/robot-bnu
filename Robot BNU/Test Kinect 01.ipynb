{
 "cells": [
  {
   "cell_type": "code",
   "execution_count": 7,
   "metadata": {},
   "outputs": [],
   "source": [
    "#**********************************************************\n",
    "#     Program Pengujian kamera Kinect Xbox 360\n",
    "#*********************************************************\n",
    "\n",
    "from pykinect import nui\n",
    "import numpy\n",
    "import cv2\n",
    "\n",
    "def video_handler_function(frame):\n",
    "    video = numpy.empty((480,640,4),numpy.uint8)\n",
    "    frame.image.copy_bits(video.ctypes.data)\n",
    "    cv2.imshow('KINECT Video Stream', video)\n",
    "\n",
    "kinect = nui.Runtime()\n",
    "kinect.video_frame_ready += video_handler_function\n",
    "kinect.video_stream.open(nui.ImageStreamType.Video, 2,nui.ImageResolution.Resolution640x480,nui.ImageType.Color)\n",
    "\n",
    "cv2.namedWindow('KINECT Video Stream', cv2.WINDOW_AUTOSIZE)\n",
    "\n",
    "while True:\n",
    " \n",
    "    key = cv2.waitKey(1)\n",
    "    if key == 27: break\n",
    "\n",
    "kinect.close()\n",
    "cv2.destroyAllWindows()\n"
   ]
  },
  {
   "cell_type": "code",
   "execution_count": null,
   "metadata": {},
   "outputs": [],
   "source": []
  }
 ],
 "metadata": {
  "kernelspec": {
   "display_name": "Python 3",
   "language": "python",
   "name": "python3"
  },
  "language_info": {
   "codemirror_mode": {
    "name": "ipython",
    "version": 3
   },
   "file_extension": ".py",
   "mimetype": "text/x-python",
   "name": "python",
   "nbconvert_exporter": "python",
   "pygments_lexer": "ipython3",
   "version": "3.7.3"
  }
 },
 "nbformat": 4,
 "nbformat_minor": 2
}
